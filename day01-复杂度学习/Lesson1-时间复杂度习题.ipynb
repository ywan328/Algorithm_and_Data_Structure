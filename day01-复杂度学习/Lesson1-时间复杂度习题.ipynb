{
 "cells": [
  {
   "cell_type": "markdown",
   "metadata": {},
   "source": [
    "### 求数字n的所有约数\n"
   ]
  },
  {
   "cell_type": "code",
   "execution_count": 6,
   "metadata": {},
   "outputs": [
    {
     "name": "stdout",
     "output_type": "stream",
     "text": [
      "[1, 2, 4, 5, 10, 20, 25, 50, 100]\n"
     ]
    }
   ],
   "source": [
    "## solution 1:\n",
    "a = []\n",
    "def getdivisor01(n):\n",
    "    for i in range(1,n+1):\n",
    "        if n%i == 0:\n",
    "            a.append(i)\n",
    "        else:\n",
    "            i+=1\n",
    "    print(a)\n",
    "        \n",
    "getdivisor01(100)"
   ]
  },
  {
   "cell_type": "code",
   "execution_count": 14,
   "metadata": {},
   "outputs": [
    {
     "name": "stdout",
     "output_type": "stream",
     "text": [
      "[1, 2, 4, 100, 5, 10, 50, 20, 25]\n"
     ]
    }
   ],
   "source": [
    "## solution 2: \n",
    "## 举例子:16,当我们找到2时,实际上8也已经找到了,所以我们只需要搜索n/2就可以了.\n",
    "\n",
    "a = []\n",
    "def getdivisor02(n):\n",
    "    for i in range(1,n//2,1):\n",
    "        if n%i == 0:\n",
    "            a.append(i)\n",
    "            a.append(n//i)\n",
    "        else:\n",
    "            i+=1\n",
    "    print(list(set(a)))\n",
    "        \n",
    "getdivisor02(100)"
   ]
  },
  {
   "cell_type": "code",
   "execution_count": 22,
   "metadata": {},
   "outputs": [
    {
     "name": "stdout",
     "output_type": "stream",
     "text": [
      "[1, 2, 4, 100, 5, 10, 50, 20, 25]\n"
     ]
    }
   ],
   "source": [
    "## solution 3:\n",
    "## i*i大于n的时候循环结束,这里的证明请看我自己写的证明笔记.\n",
    "a = []\n",
    "def getdivisor03(n):\n",
    "    i = 1\n",
    "    for i in range(1,n,1):\n",
    "        if i*i<=n:\n",
    "            if n%i == 0:\n",
    "                a.append(i)\n",
    "                a.append(n//i)\n",
    "            else:\n",
    "                i+=1\n",
    "    print(list(set(a)))\n",
    "        \n",
    "getdivisor03(100)"
   ]
  },
  {
   "cell_type": "markdown",
   "metadata": {},
   "source": [
    "##### 看来python中的set()和java中的hashset是同一种原理."
   ]
  }
 ],
 "metadata": {
  "kernelspec": {
   "display_name": "Python 3",
   "language": "python",
   "name": "python3"
  },
  "language_info": {
   "codemirror_mode": {
    "name": "ipython",
    "version": 3
   },
   "file_extension": ".py",
   "mimetype": "text/x-python",
   "name": "python",
   "nbconvert_exporter": "python",
   "pygments_lexer": "ipython3",
   "version": "3.8.3"
  },
  "varInspector": {
   "cols": {
    "lenName": 16,
    "lenType": 16,
    "lenVar": 40
   },
   "kernels_config": {
    "python": {
     "delete_cmd_postfix": "",
     "delete_cmd_prefix": "del ",
     "library": "var_list.py",
     "varRefreshCmd": "print(var_dic_list())"
    },
    "r": {
     "delete_cmd_postfix": ") ",
     "delete_cmd_prefix": "rm(",
     "library": "var_list.r",
     "varRefreshCmd": "cat(var_dic_list()) "
    }
   },
   "types_to_exclude": [
    "module",
    "function",
    "builtin_function_or_method",
    "instance",
    "_Feature"
   ],
   "window_display": false
  }
 },
 "nbformat": 4,
 "nbformat_minor": 4
}
